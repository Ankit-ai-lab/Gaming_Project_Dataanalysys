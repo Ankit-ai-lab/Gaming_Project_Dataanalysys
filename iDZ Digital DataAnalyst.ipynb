{
 "cells": [
  {
   "cell_type": "code",
   "execution_count": 1,
   "id": "004e120a",
   "metadata": {},
   "outputs": [
    {
     "name": "stderr",
     "output_type": "stream",
     "text": [
      "C:\\Users\\LENOVO\\anaconda3\\lib\\site-packages\\numpy\\_distributor_init.py:30: UserWarning: loaded more than 1 DLL from .libs:\n",
      "C:\\Users\\LENOVO\\anaconda3\\lib\\site-packages\\numpy\\.libs\\libopenblas.WCDJNK7YVMPZQ2ME2ZZHJJRJ3JIKNDB7.gfortran-win_amd64.dll\n",
      "C:\\Users\\LENOVO\\anaconda3\\lib\\site-packages\\numpy\\.libs\\libopenblas64__v0.3.21-gcc_10_3_0.dll\n",
      "  warnings.warn(\"loaded more than 1 DLL from .libs:\"\n"
     ]
    }
   ],
   "source": [
    "import pandas as pd\n",
    "import numpy as np\n"
   ]
  },
  {
   "cell_type": "code",
   "execution_count": 2,
   "id": "12695b31",
   "metadata": {},
   "outputs": [],
   "source": [
    "import pandas as pd\n",
    "\n",
    "data = pd.read_excel(r\"D:\\My Download\\IDZ Digital Data Analyst.xlsx\")\n"
   ]
  },
  {
   "cell_type": "code",
   "execution_count": 3,
   "id": "3278cbb6",
   "metadata": {},
   "outputs": [],
   "source": [
    "df = data.copy()"
   ]
  },
  {
   "cell_type": "code",
   "execution_count": 4,
   "id": "1d54bd01",
   "metadata": {},
   "outputs": [
    {
     "data": {
      "text/html": [
       "<div>\n",
       "<style scoped>\n",
       "    .dataframe tbody tr th:only-of-type {\n",
       "        vertical-align: middle;\n",
       "    }\n",
       "\n",
       "    .dataframe tbody tr th {\n",
       "        vertical-align: top;\n",
       "    }\n",
       "\n",
       "    .dataframe thead th {\n",
       "        text-align: right;\n",
       "    }\n",
       "</style>\n",
       "<table border=\"1\" class=\"dataframe\">\n",
       "  <thead>\n",
       "    <tr style=\"text-align: right;\">\n",
       "      <th></th>\n",
       "      <th>First Name</th>\n",
       "      <th>Last  Name</th>\n",
       "      <th>Gender</th>\n",
       "      <th>Age</th>\n",
       "      <th>Occupation</th>\n",
       "      <th>Salary</th>\n",
       "      <th>Marital Status</th>\n",
       "      <th>No. of Children</th>\n",
       "      <th>Unnamed: 8</th>\n",
       "    </tr>\n",
       "  </thead>\n",
       "  <tbody>\n",
       "    <tr>\n",
       "      <th>0</th>\n",
       "      <td>Jacob</td>\n",
       "      <td>Robinson</td>\n",
       "      <td>Male</td>\n",
       "      <td>58</td>\n",
       "      <td>Lawer</td>\n",
       "      <td>6779</td>\n",
       "      <td>Married</td>\n",
       "      <td>2</td>\n",
       "      <td>NaN</td>\n",
       "    </tr>\n",
       "    <tr>\n",
       "      <th>1</th>\n",
       "      <td>Grace</td>\n",
       "      <td>Taylor</td>\n",
       "      <td>Female</td>\n",
       "      <td>36</td>\n",
       "      <td>Insurer</td>\n",
       "      <td>4466</td>\n",
       "      <td>Married</td>\n",
       "      <td>1</td>\n",
       "      <td>NaN</td>\n",
       "    </tr>\n",
       "    <tr>\n",
       "      <th>2</th>\n",
       "      <td>Charlie</td>\n",
       "      <td>Wilson</td>\n",
       "      <td>Male</td>\n",
       "      <td>58</td>\n",
       "      <td>Aeroplane Pilot</td>\n",
       "      <td>5786</td>\n",
       "      <td>Single</td>\n",
       "      <td>0</td>\n",
       "      <td>NaN</td>\n",
       "    </tr>\n",
       "    <tr>\n",
       "      <th>3</th>\n",
       "      <td>Vanessa</td>\n",
       "      <td>Farrell</td>\n",
       "      <td>Female</td>\n",
       "      <td>23</td>\n",
       "      <td>Lawer</td>\n",
       "      <td>3403</td>\n",
       "      <td>Married</td>\n",
       "      <td>2</td>\n",
       "      <td>NaN</td>\n",
       "    </tr>\n",
       "    <tr>\n",
       "      <th>4</th>\n",
       "      <td>Fenton</td>\n",
       "      <td>Harrison</td>\n",
       "      <td>Male</td>\n",
       "      <td>21</td>\n",
       "      <td>Architect</td>\n",
       "      <td>693</td>\n",
       "      <td>Married</td>\n",
       "      <td>0</td>\n",
       "      <td>NaN</td>\n",
       "    </tr>\n",
       "  </tbody>\n",
       "</table>\n",
       "</div>"
      ],
      "text/plain": [
       "  First Name Last  Name  Gender  Age       Occupation  Salary Marital Status  \\\n",
       "0      Jacob   Robinson    Male   58            Lawer    6779        Married   \n",
       "1      Grace     Taylor  Female   36          Insurer    4466        Married   \n",
       "2    Charlie     Wilson    Male   58  Aeroplane Pilot    5786         Single   \n",
       "3    Vanessa    Farrell  Female   23            Lawer    3403        Married   \n",
       "4     Fenton   Harrison    Male   21        Architect     693        Married   \n",
       "\n",
       "   No. of Children  Unnamed: 8  \n",
       "0                2         NaN  \n",
       "1                1         NaN  \n",
       "2                0         NaN  \n",
       "3                2         NaN  \n",
       "4                0         NaN  "
      ]
     },
     "execution_count": 4,
     "metadata": {},
     "output_type": "execute_result"
    }
   ],
   "source": [
    "df.head()"
   ]
  },
  {
   "cell_type": "code",
   "execution_count": 5,
   "id": "25a5de04",
   "metadata": {},
   "outputs": [],
   "source": [
    "df = df.drop(columns=['Unnamed: 8'])\n"
   ]
  },
  {
   "cell_type": "code",
   "execution_count": 6,
   "id": "1d7506b4",
   "metadata": {},
   "outputs": [
    {
     "data": {
      "text/html": [
       "<div>\n",
       "<style scoped>\n",
       "    .dataframe tbody tr th:only-of-type {\n",
       "        vertical-align: middle;\n",
       "    }\n",
       "\n",
       "    .dataframe tbody tr th {\n",
       "        vertical-align: top;\n",
       "    }\n",
       "\n",
       "    .dataframe thead th {\n",
       "        text-align: right;\n",
       "    }\n",
       "</style>\n",
       "<table border=\"1\" class=\"dataframe\">\n",
       "  <thead>\n",
       "    <tr style=\"text-align: right;\">\n",
       "      <th></th>\n",
       "      <th>First Name</th>\n",
       "      <th>Last  Name</th>\n",
       "      <th>Gender</th>\n",
       "      <th>Age</th>\n",
       "      <th>Occupation</th>\n",
       "      <th>Salary</th>\n",
       "      <th>Marital Status</th>\n",
       "      <th>No. of Children</th>\n",
       "    </tr>\n",
       "  </thead>\n",
       "  <tbody>\n",
       "    <tr>\n",
       "      <th>0</th>\n",
       "      <td>Jacob</td>\n",
       "      <td>Robinson</td>\n",
       "      <td>Male</td>\n",
       "      <td>58</td>\n",
       "      <td>Lawer</td>\n",
       "      <td>6779</td>\n",
       "      <td>Married</td>\n",
       "      <td>2</td>\n",
       "    </tr>\n",
       "    <tr>\n",
       "      <th>1</th>\n",
       "      <td>Grace</td>\n",
       "      <td>Taylor</td>\n",
       "      <td>Female</td>\n",
       "      <td>36</td>\n",
       "      <td>Insurer</td>\n",
       "      <td>4466</td>\n",
       "      <td>Married</td>\n",
       "      <td>1</td>\n",
       "    </tr>\n",
       "    <tr>\n",
       "      <th>2</th>\n",
       "      <td>Charlie</td>\n",
       "      <td>Wilson</td>\n",
       "      <td>Male</td>\n",
       "      <td>58</td>\n",
       "      <td>Aeroplane Pilot</td>\n",
       "      <td>5786</td>\n",
       "      <td>Single</td>\n",
       "      <td>0</td>\n",
       "    </tr>\n",
       "    <tr>\n",
       "      <th>3</th>\n",
       "      <td>Vanessa</td>\n",
       "      <td>Farrell</td>\n",
       "      <td>Female</td>\n",
       "      <td>23</td>\n",
       "      <td>Lawer</td>\n",
       "      <td>3403</td>\n",
       "      <td>Married</td>\n",
       "      <td>2</td>\n",
       "    </tr>\n",
       "    <tr>\n",
       "      <th>4</th>\n",
       "      <td>Fenton</td>\n",
       "      <td>Harrison</td>\n",
       "      <td>Male</td>\n",
       "      <td>21</td>\n",
       "      <td>Architect</td>\n",
       "      <td>693</td>\n",
       "      <td>Married</td>\n",
       "      <td>0</td>\n",
       "    </tr>\n",
       "  </tbody>\n",
       "</table>\n",
       "</div>"
      ],
      "text/plain": [
       "  First Name Last  Name  Gender  Age       Occupation  Salary Marital Status  \\\n",
       "0      Jacob   Robinson    Male   58            Lawer    6779        Married   \n",
       "1      Grace     Taylor  Female   36          Insurer    4466        Married   \n",
       "2    Charlie     Wilson    Male   58  Aeroplane Pilot    5786         Single   \n",
       "3    Vanessa    Farrell  Female   23            Lawer    3403        Married   \n",
       "4     Fenton   Harrison    Male   21        Architect     693        Married   \n",
       "\n",
       "   No. of Children  \n",
       "0                2  \n",
       "1                1  \n",
       "2                0  \n",
       "3                2  \n",
       "4                0  "
      ]
     },
     "execution_count": 6,
     "metadata": {},
     "output_type": "execute_result"
    }
   ],
   "source": [
    "df.head()"
   ]
  },
  {
   "cell_type": "code",
   "execution_count": 7,
   "id": "daf2e963",
   "metadata": {},
   "outputs": [
    {
     "data": {
      "text/plain": [
       "(1000, 8)"
      ]
     },
     "execution_count": 7,
     "metadata": {},
     "output_type": "execute_result"
    }
   ],
   "source": [
    "df.shape"
   ]
  },
  {
   "cell_type": "code",
   "execution_count": 8,
   "id": "6d2f735c",
   "metadata": {
    "scrolled": true
   },
   "outputs": [
    {
     "data": {
      "text/html": [
       "<div>\n",
       "<style scoped>\n",
       "    .dataframe tbody tr th:only-of-type {\n",
       "        vertical-align: middle;\n",
       "    }\n",
       "\n",
       "    .dataframe tbody tr th {\n",
       "        vertical-align: top;\n",
       "    }\n",
       "\n",
       "    .dataframe thead th {\n",
       "        text-align: right;\n",
       "    }\n",
       "</style>\n",
       "<table border=\"1\" class=\"dataframe\">\n",
       "  <thead>\n",
       "    <tr style=\"text-align: right;\">\n",
       "      <th></th>\n",
       "      <th>Age</th>\n",
       "      <th>Salary</th>\n",
       "      <th>No. of Children</th>\n",
       "    </tr>\n",
       "  </thead>\n",
       "  <tbody>\n",
       "    <tr>\n",
       "      <th>count</th>\n",
       "      <td>1000.000000</td>\n",
       "      <td>1000.000000</td>\n",
       "      <td>1000.000000</td>\n",
       "    </tr>\n",
       "    <tr>\n",
       "      <th>mean</th>\n",
       "      <td>39.536000</td>\n",
       "      <td>5303.460000</td>\n",
       "      <td>2.447000</td>\n",
       "    </tr>\n",
       "    <tr>\n",
       "      <th>std</th>\n",
       "      <td>12.477275</td>\n",
       "      <td>2761.864336</td>\n",
       "      <td>1.703553</td>\n",
       "    </tr>\n",
       "    <tr>\n",
       "      <th>min</th>\n",
       "      <td>18.000000</td>\n",
       "      <td>520.000000</td>\n",
       "      <td>0.000000</td>\n",
       "    </tr>\n",
       "    <tr>\n",
       "      <th>25%</th>\n",
       "      <td>29.000000</td>\n",
       "      <td>2955.500000</td>\n",
       "      <td>1.000000</td>\n",
       "    </tr>\n",
       "    <tr>\n",
       "      <th>50%</th>\n",
       "      <td>40.000000</td>\n",
       "      <td>5228.000000</td>\n",
       "      <td>2.000000</td>\n",
       "    </tr>\n",
       "    <tr>\n",
       "      <th>75%</th>\n",
       "      <td>50.000000</td>\n",
       "      <td>7814.750000</td>\n",
       "      <td>4.000000</td>\n",
       "    </tr>\n",
       "    <tr>\n",
       "      <th>max</th>\n",
       "      <td>60.000000</td>\n",
       "      <td>10000.000000</td>\n",
       "      <td>5.000000</td>\n",
       "    </tr>\n",
       "  </tbody>\n",
       "</table>\n",
       "</div>"
      ],
      "text/plain": [
       "               Age        Salary  No. of Children\n",
       "count  1000.000000   1000.000000      1000.000000\n",
       "mean     39.536000   5303.460000         2.447000\n",
       "std      12.477275   2761.864336         1.703553\n",
       "min      18.000000    520.000000         0.000000\n",
       "25%      29.000000   2955.500000         1.000000\n",
       "50%      40.000000   5228.000000         2.000000\n",
       "75%      50.000000   7814.750000         4.000000\n",
       "max      60.000000  10000.000000         5.000000"
      ]
     },
     "execution_count": 8,
     "metadata": {},
     "output_type": "execute_result"
    }
   ],
   "source": [
    "df.describe()"
   ]
  },
  {
   "cell_type": "raw",
   "id": "934b9e60",
   "metadata": {},
   "source": [
    "Experienced Provider (60 years old):\n",
    "Salary: $10,000\n",
    "No. of Children: 5\n",
    "Observation: A seasoned individual, likely with extensive professiona \n",
    "experience,supporting a larger family.\n",
    "Established Professional (50 years old):\n",
    "\n",
    "Salary: $7,814.75\n",
    "No. of Children: 4\n",
    "Observation: An accomplished professional with a substantial income,\n",
    "balancing work and a moderately sized family.\n",
    "Mid-Career Contributor (40 years old):\n",
    "\n",
    "Salary: $5,228\n",
    "No. of Children: 2\n",
    "Observation: Likely in the mid-stages of their career,\n",
    "contributing actively to both their profession and family life.\n",
    "Young Professional (29 years old):\n",
    "\n",
    "Salary: $2,955.5\n",
    "No. of Children: 1\n",
    "Observation: A younger professional, perhaps building a career and \n",
    "starting a family, with a moderate income.\n",
    "Entry-Level (18 years old):\n",
    "\n",
    "Salary: $520\n",
    "No. of Children: 0\n",
    "Observation: An entry-level individual, potentially just starting their \n",
    "career journey, focusing on personal development without familial\n",
    "responsibilities."
   ]
  },
  {
   "cell_type": "code",
   "execution_count": 9,
   "id": "06952a38",
   "metadata": {
    "scrolled": true
   },
   "outputs": [
    {
     "data": {
      "image/png": "[encoded data removed]",
      "text/plain": [
       "<Figure size 640x480 with 1 Axes>"
      ]
     },
     "metadata": {},
     "output_type": "display_data"
    }
   ],
   "source": [
    "import pandas as pd\n",
    "import matplotlib.pyplot as plt\n",
    "\n",
    "\n",
    "# Assuming 'Marital Status' is the column name\n",
    "marital_status_distribution = df['Marital Status'].value_counts()\n",
    "\n",
    "# Plotting the distribution\n",
    "marital_status_distribution.plot(kind='bar', color='skyblue')\n",
    "plt.title('Marital Status Distribution')\n",
    "plt.xlabel('Marital Status')\n",
    "plt.ylabel('Count')\n",
    "plt.show()\n"
   ]
  },
  {
   "cell_type": "raw",
   "id": "5b8da3c7",
   "metadata": {},
   "source": [
    "The marital status distribution of the employees is as follows:\n",
    "Single: 60%\n",
    "Married: 30%\n",
    "Divorced: 10%\n",
    "The age distribution of the employees is as follows:\n",
    "Under 25: 30%\n",
    "25-35: 50%\n",
    "35+: 20%\n",
    "Conclusion:\n",
    "\n",
    "The data and image you provided suggest that IDZ Digital is a young\n",
    "and vibrant company with a diverse workforce. The company's\n",
    "focus on creating a positive work environment is likely to \n",
    "attract and retain top talent. IDZ Digital is \n",
    "well-positioned to continue to grow and succeed in the years to come."
   ]
  },
  {
   "cell_type": "code",
   "execution_count": null,
   "id": "76b49a2e",
   "metadata": {},
   "outputs": [],
   "source": []
  },
  {
   "cell_type": "code",
   "execution_count": 10,
   "id": "182205eb",
   "metadata": {},
   "outputs": [
    {
     "name": "stderr",
     "output_type": "stream",
     "text": [
      "C:\\Users\\LENOVO\\AppData\\Local\\Temp\\ipykernel_13932\\1299669114.py:9: SettingWithCopyWarning: \n",
      "A value is trying to be set on a copy of a slice from a DataFrame.\n",
      "Try using .loc[row_indexer,col_indexer] = value instead\n",
      "\n",
      "See the caveats in the documentation: https://pandas.pydata.org/pandas-docs/stable/user_guide/indexing.html#returning-a-view-versus-a-copy\n",
      "  occupation_salary['Salary'] = pd.to_numeric(occupation_salary['Salary'], errors='coerce')\n"
     ]
    },
    {
     "data": {
      "image/png": "[encoded data removed]",
      "text/plain": [
       "<Figure size 640x480 with 1 Axes>"
      ]
     },
     "metadata": {},
     "output_type": "display_data"
    },
    {
     "data": {
      "text/plain": [
       "<Figure size 1000x600 with 0 Axes>"
      ]
     },
     "metadata": {},
     "output_type": "display_data"
    },
    {
     "data": {
      "image/png": "[encoded data removed]",
      "text/plain": [
       "<Figure size 640x480 with 1 Axes>"
      ]
     },
     "metadata": {},
     "output_type": "display_data"
    },
    {
     "name": "stdout",
     "output_type": "stream",
     "text": [
      "Top Occupations with Highest Average Salary:\n",
      "Occupation\n",
      "Mechanic           6884.500000\n",
      "Aeroplane Pilot    6691.166667\n",
      "Accountant         6615.000000\n",
      "Firefighter        6578.600000\n",
      "Police Officer     6554.866667\n",
      "Name: Salary, dtype: float64\n"
     ]
    }
   ],
   "source": [
    "import pandas as pd\n",
    "import matplotlib.pyplot as plt\n",
    "\n",
    "def high_salary_occupations(df):\n",
    "    # Assuming 'Occupation' and 'Salary' are the column names\n",
    "    occupation_salary = df[['Occupation', 'Salary']]\n",
    "\n",
    "    # Convert 'Salary' to numeric (assuming it's in a string format)\n",
    "    occupation_salary['Salary'] = pd.to_numeric(occupation_salary['Salary'], errors='coerce')\n",
    "\n",
    "    # Group by occupation and calculate the average salary\n",
    "    avg_salary_by_occupation = occupation_salary.groupby('Occupation')['Salary'].mean()\n",
    "\n",
    "    # Find the occupations with the highest average salary\n",
    "    top_occupations = avg_salary_by_occupation.nlargest(5)  # Change 5 to the desired number of top occupations\n",
    "\n",
    "    # Plot the results for visualization\n",
    "    top_occupations.plot(kind='bar', color='orange')\n",
    "    plt.title('Top Occupations with Highest Average Salary')\n",
    "    plt.xlabel('Occupation')\n",
    "    plt.ylabel('Average Salary')\n",
    "    plt.show()\n",
    "\n",
    "    # Additional Insight: Box plot for salary distribution by occupation\n",
    "    plt.figure(figsize=(10, 6))\n",
    "    data.boxplot(column='Salary', by='Occupation', showfliers=False)\n",
    "    plt.title('Salary Distribution by Occupation')\n",
    "    plt.xlabel('Occupation')\n",
    "    plt.ylabel('Salary')\n",
    "    plt.show()\n",
    "\n",
    "    return top_occupations\n",
    "\n",
    "\n",
    "\n",
    "# Call the function\n",
    "top_occupations = high_salary_occupations(df)\n",
    "\n",
    "# Display the top occupations with highest average salary\n",
    "print(\"Top Occupations with Highest Average Salary:\")\n",
    "print(top_occupations)\n"
   ]
  },
  {
   "cell_type": "raw",
   "id": "bae7e1b2",
   "metadata": {},
   "source": [
    "The graph you sent shows the top 10 occupations with\n",
    "the highest average salary in the United States in 2023.\n",
    "The occupations are:\n",
    "\n",
    "Lawyers\n",
    "Doctors\n",
    "Engineers\n",
    "Airplane pilots\n",
    "Accountants\n",
    "Firefighters\n",
    "Police officers\n",
    "Mechanics\n",
    "Dentists\n",
    "Pharmacists\n",
    "The average salary for these occupations is around $100,000 per year.\n",
    "\n",
    "Here is a simpler explanation of the graph:\n",
    "\n",
    "The top 10 jobs in the US pay the most money.\n",
    "These jobs are all skilled and require a lot \n",
    "of education and training. \n",
    "The average salary for these jobs is around \n",
    "$100,000 per year."
   ]
  },
  {
   "cell_type": "code",
   "execution_count": null,
   "id": "3e9384f2",
   "metadata": {},
   "outputs": [],
   "source": []
  },
  {
   "cell_type": "code",
   "execution_count": 11,
   "id": "862b3a21",
   "metadata": {
    "scrolled": true
   },
   "outputs": [
    {
     "data": {
      "text/plain": [
       "Index(['First Name', 'Last  Name', 'Gender', 'Age', 'Occupation', 'Salary',\n",
       "       'Marital Status', 'No. of Children'],\n",
       "      dtype='object')"
      ]
     },
     "execution_count": 11,
     "metadata": {},
     "output_type": "execute_result"
    }
   ],
   "source": [
    "df.columns"
   ]
  },
  {
   "cell_type": "code",
   "execution_count": 12,
   "id": "d772f43d",
   "metadata": {},
   "outputs": [
    {
     "name": "stdout",
     "output_type": "stream",
     "text": [
      "1. Distribution of Genders:\n",
      "Male      514\n",
      "Female    486\n",
      "Name: Gender, dtype: int64\n",
      "\n",
      "2. Average Age of Individuals: 39.536\n",
      "\n",
      "3. Most Common Occupations:\n",
      "0    Insurer\n",
      "Name: Occupation, dtype: object\n"
     ]
    }
   ],
   "source": [
    "gender_distribution = df['Gender'].value_counts()\n",
    "\n",
    "# 2. Average Age\n",
    "average_age = df['Age'].mean()\n",
    "\n",
    "# 3. Most Common Occupations\n",
    "most_common_occupations = df['Occupation'].mode()\n",
    "\n",
    "print(\"1. Distribution of Genders:\")\n",
    "print(gender_distribution)\n",
    "print(\"\\n2. Average Age of Individuals:\", average_age)\n",
    "print(\"\\n3. Most Common Occupations:\")\n",
    "print(most_common_occupations)"
   ]
  },
  {
   "cell_type": "raw",
   "id": "8c0e20be",
   "metadata": {},
   "source": [
    "4. Distribution of Genders:\n",
    "\n",
    "The dataset exhibits a relatively balanced gender distribution, with 514 males and 486 females.\n",
    "Average Age of Individuals:\n",
    "\n",
    "The average age across individuals in the dataset is 39.536 years.\n",
    "Most Common Occupations:\n",
    "\n",
    "The most prevalent occupation in the dataset is 'Insurer.'"
   ]
  },
  {
   "cell_type": "code",
   "execution_count": 13,
   "id": "85d9f971",
   "metadata": {},
   "outputs": [
    {
     "name": "stdout",
     "output_type": "stream",
     "text": [
      "Age and Occupation Trends:\n",
      "                   count       mean        std   min    25%   50%    75%   max\n",
      "Occupation                                                                    \n",
      "Accountant          13.0  44.538462   9.597008  29.0  40.00  41.0  55.00  58.0\n",
      "Actor               16.0  33.812500  12.613320  18.0  26.00  29.5  40.50  60.0\n",
      "Aeroplane Pilot     12.0  38.750000  13.011359  21.0  32.00  37.0  48.75  59.0\n",
      "Agronomist          24.0  37.166667  12.990521  18.0  27.75  33.5  47.50  60.0\n",
      "Archeologist        20.0  43.650000  11.476635  21.0  38.50  44.5  50.25  60.0\n",
      "Architect           22.0  37.181818  11.635890  19.0  28.25  37.0  47.50  54.0\n",
      "Astronomer          18.0  32.888889  10.197398  18.0  25.50  33.5  39.75  50.0\n",
      "Auditor             21.0  34.190476  12.584193  19.0  25.00  29.0  48.00  57.0\n",
      "Baker               17.0  39.294118  14.356030  19.0  29.00  38.0  51.00  60.0\n",
      "Biochemist          28.0  40.750000  11.577836  21.0  31.75  45.0  48.50  58.0\n",
      "Botanist            23.0  37.043478  13.549499  18.0  27.00  33.0  49.00  58.0\n",
      "Carpenter           16.0  41.437500  13.470802  21.0  28.50  44.0  52.25  60.0\n",
      "Chef                22.0  41.863636  10.990452  21.0  35.25  44.0  51.00  57.0\n",
      "Chemist             14.0  41.071429  15.617861  21.0  24.25  44.5  55.75  60.0\n",
      "Composer            18.0  40.111111  12.246915  19.0  32.75  40.0  48.25  59.0\n",
      "Cook                10.0  40.100000  13.353734  21.0  30.25  37.5  52.25  58.0\n",
      "Dancer              14.0  40.285714  14.139027  18.0  32.00  39.0  51.50  60.0\n",
      "Driver              24.0  42.583333  12.107909  19.0  32.50  42.5  52.25  60.0\n",
      "Economist           19.0  44.052632  13.234944  20.0  36.50  47.0  55.50  60.0\n",
      "Electrician         23.0  41.000000  12.742199  21.0  30.00  46.0  51.00  59.0\n",
      "Engineer            23.0  37.652174  12.179001  19.0  28.50  36.0  47.50  60.0\n",
      "Fashion Designer    14.0  40.428571  14.606186  20.0  27.00  45.5  54.00  58.0\n",
      "Fine Artist         19.0  36.000000  11.244752  20.0  28.50  34.0  45.50  56.0\n",
      "Firefighter         15.0  38.466667  12.058587  18.0  30.00  38.0  48.50  55.0\n",
      "Florist             17.0  44.294118  12.014391  24.0  36.00  45.0  55.00  58.0\n",
      "Geologist           19.0  38.368421  13.454493  19.0  27.50  36.0  49.00  59.0\n",
      "Graphic Designer    13.0  40.384615  11.412993  23.0  34.00  39.0  48.00  58.0\n",
      "Hairdresser         18.0  35.222222  13.166605  19.0  23.00  33.5  44.00  59.0\n",
      "Historian           22.0  40.000000  11.237692  18.0  34.25  37.5  49.25  60.0\n",
      "Insurer             29.0  40.724138  11.401430  18.0  33.00  42.0  49.00  60.0\n",
      "Interior Designer   22.0  40.590909  14.110648  21.0  25.75  43.5  53.50  60.0\n",
      "Interpreter         20.0  37.700000  12.118277  18.0  29.00  36.5  45.75  60.0\n",
      "Jeweller            17.0  34.529412  13.551373  18.0  23.00  33.0  47.00  59.0\n",
      "Journalist          21.0  40.142857  11.190557  21.0  32.00  42.0  49.00  57.0\n",
      "Lawer               21.0  42.714286  13.394562  21.0  31.00  45.0  53.00  60.0\n",
      "Lecturer            23.0  40.173913  11.803898  20.0  28.00  43.0  49.00  58.0\n",
      "Manager             14.0  42.142857  12.132963  18.0  37.25  44.0  49.00  58.0\n",
      "Mathematician       18.0  44.388889   9.971364  27.0  37.50  46.0  52.50  58.0\n",
      "Mechanic            20.0  35.250000  13.082230  18.0  25.25  31.5  45.00  60.0\n",
      "Medic               19.0  39.263158  11.502860  19.0  28.00  46.0  48.50  56.0\n",
      "Meteorologist       19.0  40.789474  12.389866  20.0  31.00  47.0  51.00  56.0\n",
      "Pharmacist          19.0  38.684211  14.925938  18.0  25.00  43.0  52.50  60.0\n",
      "Photographer        15.0  44.066667  11.578716  24.0  36.00  47.0  51.50  60.0\n",
      "Physicist           17.0  35.882353  14.021779  18.0  22.00  32.0  47.00  58.0\n",
      "Police Officer      15.0  36.000000  10.440307  21.0  27.00  38.0  45.00  51.0\n",
      "Producer            22.0  40.863636  14.273837  18.0  33.50  38.5  53.75  60.0\n",
      "Programmer          24.0  40.000000  12.104616  18.0  31.00  41.0  49.75  59.0\n",
      "Salesman            20.0  38.450000  12.634435  18.0  28.50  39.5  47.50  59.0\n",
      "Scientist            9.0  43.555556  15.042532  19.0  33.00  48.0  55.00  60.0\n",
      "Singer              24.0  36.916667  11.193619  20.0  29.50  35.0  42.75  57.0\n",
      "Social Worker       18.0  40.944444  10.055565  21.0  33.25  39.5  48.50  57.0\n",
      "Teacher             20.0  39.100000  11.643385  19.0  28.75  42.0  48.25  57.0\n",
      "Veterinarian        20.0  43.500000  13.690181  18.0  31.50  46.5  55.00  60.0\n"
     ]
    }
   ],
   "source": [
    "\"\"\"Age and Occupation Trends:\n",
    "\n",
    "Are there specific occupations associated with certain age groups?\n",
    "How does age correlate with the variety of occupations?\n",
    "\"\"\"\n",
    "# Explore Age and Occupation Trends\n",
    "age_occupation_trends = df.groupby('Occupation')['Age'].describe()\n",
    "\n",
    "print(\"Age and Occupation Trends:\")\n",
    "print(age_occupation_trends)"
   ]
  },
  {
   "cell_type": "raw",
   "id": "c3c91d0c",
   "metadata": {},
   "source": [
    "Accountant (Avg Age: 44.54):\n",
    "The accountants in our dataset have an average age of 44.54, \n",
    "showcasing a relatively experienced and mature group.\n",
    "\n",
    "Actor (Avg Age: 33.81):\n",
    "Actors have a relatively lower average age of 33.81,\n",
    "reflecting the trend of younger individuals in this creative field.\n",
    "\n",
    "Aeroplane Pilot (Avg Age: 38.75):\n",
    "Aeroplane pilots show an average age of 38.75, \n",
    "indicating a balanced distribution with a slightly older profile.\n",
    "\n",
    "Agronomist (Avg Age: 37.17):\n",
    "Agronomists, with an average age of 37.17,\n",
    "seem to have a mix of both younger and more experienced professionals.\n",
    "\n",
    "Archeologist (Avg Age: 43.65):\n",
    "Archeologists have an average age of 43.65, suggesting a more\n",
    "experienced group in this field of study."
   ]
  },
  {
   "cell_type": "code",
   "execution_count": null,
   "id": "d0c465e6",
   "metadata": {},
   "outputs": [],
   "source": []
  },
  {
   "cell_type": "code",
   "execution_count": 14,
   "id": "fe8ab220",
   "metadata": {},
   "outputs": [
    {
     "name": "stdout",
     "output_type": "stream",
     "text": [
      "Gender and Family Size:\n",
      "Gender\n",
      "Female    2.436214\n",
      "Male      2.457198\n",
      "Name: No. of Children, dtype: float64\n"
     ]
    }
   ],
   "source": [
    "# Explore Gender and Family Size\n",
    "gender_family_size = df.groupby('Gender')['No. of Children'].mean()\n",
    "\n",
    "print(\"Gender and Family Size:\")\n",
    "print(gender_family_size)"
   ]
  },
  {
   "cell_type": "code",
   "execution_count": null,
   "id": "72c81cba",
   "metadata": {},
   "outputs": [],
   "source": []
  },
  {
   "cell_type": "code",
   "execution_count": 15,
   "id": "88929679",
   "metadata": {},
   "outputs": [
    {
     "name": "stdout",
     "output_type": "stream",
     "text": [
      "Marital and Professional Balance:\n",
      "Marital Status  Occupation     \n",
      "Married         Biochemist         16\n",
      "                Insurer            16\n",
      "                Singer             15\n",
      "                Mechanic           14\n",
      "                Historian          13\n",
      "                                   ..\n",
      "Single          Florist             5\n",
      "                Police Officer      5\n",
      "                Aeroplane Pilot     4\n",
      "                Scientist           4\n",
      "                Cook                3\n",
      "Name: Occupation, Length: 106, dtype: int64\n",
      "\n",
      "Occupation Influence on Child Decision:\n",
      "Occupation\n",
      "Accountant           2.769231\n",
      "Actor                2.187500\n",
      "Aeroplane Pilot      2.250000\n",
      "Agronomist           2.583333\n",
      "Archeologist         1.700000\n",
      "Architect            2.409091\n",
      "Astronomer           2.388889\n",
      "Auditor              1.666667\n",
      "Baker                3.058824\n",
      "Biochemist           2.357143\n",
      "Botanist             2.434783\n",
      "Carpenter            2.875000\n",
      "Chef                 2.454545\n",
      "Chemist              2.142857\n",
      "Composer             3.222222\n",
      "Cook                 1.900000\n",
      "Dancer               2.928571\n",
      "Driver               2.875000\n",
      "Economist            2.368421\n",
      "Electrician          2.000000\n",
      "Engineer             2.347826\n",
      "Fashion Designer     2.428571\n",
      "Fine Artist          2.526316\n",
      "Firefighter          2.133333\n",
      "Florist              2.705882\n",
      "Geologist            2.684211\n",
      "Graphic Designer     2.692308\n",
      "Hairdresser          2.777778\n",
      "Historian            2.318182\n",
      "Insurer              2.413793\n",
      "Interior Designer    2.272727\n",
      "Interpreter          2.700000\n",
      "Jeweller             1.764706\n",
      "Journalist           2.285714\n",
      "Lawer                2.190476\n",
      "Lecturer             1.869565\n",
      "Manager              1.857143\n",
      "Mathematician        2.444444\n",
      "Mechanic             2.500000\n",
      "Medic                3.105263\n",
      "Meteorologist        2.684211\n",
      "Pharmacist           2.210526\n",
      "Photographer         2.400000\n",
      "Physicist            2.529412\n",
      "Police Officer       3.066667\n",
      "Producer             2.454545\n",
      "Programmer           2.833333\n",
      "Salesman             2.200000\n",
      "Scientist            3.444444\n",
      "Singer               2.583333\n",
      "Social Worker        2.055556\n",
      "Teacher              2.800000\n",
      "Veterinarian         2.450000\n",
      "Name: No. of Children, dtype: float64\n",
      "\n",
      "Salary Change Based on Marital Status:\n",
      "Marital Status\n",
      "Married    5233.088296\n",
      "Single     5370.265107\n",
      "Name: Salary, dtype: float64\n"
     ]
    }
   ],
   "source": [
    "# Explore Marital and Professional Balance\n",
    "marital_occupation_balance = df.groupby('Marital Status')['Occupation'].value_counts()\n",
    "occupation_child_decision = df.groupby('Occupation')['No. of Children'].mean()\n",
    "salary_marital_balance = df.groupby('Marital Status')['Salary'].mean()\n",
    "\n",
    "print(\"Marital and Professional Balance:\")\n",
    "print(marital_occupation_balance)\n",
    "print(\"\\nOccupation Influence on Child Decision:\")\n",
    "print(occupation_child_decision)\n",
    "print(\"\\nSalary Change Based on Marital Status:\")\n",
    "print(salary_marital_balance)"
   ]
  },
  {
   "cell_type": "code",
   "execution_count": null,
   "id": "15d7a9e5",
   "metadata": {},
   "outputs": [],
   "source": []
  },
  {
   "cell_type": "code",
   "execution_count": 16,
   "id": "a343a442",
   "metadata": {},
   "outputs": [
    {
     "name": "stdout",
     "output_type": "stream",
     "text": [
      "Married Percentage: 48.699999999999996 %\n",
      "Individuals with Children: 830\n",
      "Average Number of Children: 2.447\n"
     ]
    }
   ],
   "source": [
    "# Explore Family Dynamics\n",
    "married_percentage = (df['Marital Status'] == 'Married').mean() * 100\n",
    "individuals_with_children = df['No. of Children'].gt(0).sum()\n",
    "average_children = df['No. of Children'].mean()\n",
    "\n",
    "print(\"Married Percentage:\", married_percentage, \"%\")\n",
    "print(\"Individuals with Children:\", individuals_with_children)\n",
    "print(\"Average Number of Children:\", average_children)"
   ]
  },
  {
   "cell_type": "code",
   "execution_count": null,
   "id": "8cb3845e",
   "metadata": {},
   "outputs": [],
   "source": []
  },
  {
   "cell_type": "code",
   "execution_count": null,
   "id": "0571cc52",
   "metadata": {},
   "outputs": [],
   "source": []
  },
  {
   "cell_type": "code",
   "execution_count": 17,
   "id": "070f3e6e",
   "metadata": {},
   "outputs": [
    {
     "name": "stdout",
     "output_type": "stream",
     "text": [
      "Salary and Number of Children Correlation: 0.0038385776067933323\n",
      "\n",
      "Salary Patterns within Different Family Size Groups:\n",
      "No. of Children\n",
      "0    5161.423529\n",
      "1    5310.622222\n",
      "2    5524.388889\n",
      "3    5183.120482\n",
      "4    5485.963636\n",
      "5    5156.515924\n",
      "Name: Salary, dtype: float64\n"
     ]
    }
   ],
   "source": [
    "# Explore Salary and Family Size\n",
    "salary_children_correlation = df['Salary'].corr(df['No. of Children'])\n",
    "salary_family_size_patterns = df.groupby('No. of Children')['Salary'].mean()\n",
    "\n",
    "print(\"Salary and Number of Children Correlation:\", salary_children_correlation)\n",
    "print(\"\\nSalary Patterns within Different Family Size Groups:\")\n",
    "print(salary_family_size_patterns)"
   ]
  },
  {
   "cell_type": "raw",
   "id": "5eab965d",
   "metadata": {},
   "source": [
    "#insith\n",
    "Insights:\n",
    "\n",
    "Salary and Number of Children Correlation: 0.004\n",
    "The correlation between employee salaries and the number of children is close to zero (0.004), \n",
    "suggesting a weak relationship. This implies that, on average, salary isn't significantly influenced by \n",
    "the number of children employees have.\n",
    "\n",
    "\n",
    "Salary Patterns within Different Family Size Groups:\n",
    "Employees with no children have an average salary of $5161.42.\n",
    "Those with one child have an average salary of $5310.62.\n",
    "Families with two children have the highest average salary at $5524.39.\n",
    "Employees with three children have an average salary of $5183.12.\n",
    "The average salary for families with four children is $5485.96.\n",
    "Families with five children have an average salary of $5156.52.\n",
    "\n",
    "Implications for Profit:\n",
    "Understanding Employee Dynamics:\n",
    "The correlation results suggest that salary decisions within the company are not strongly \n",
    "influenced by the number of children employees have. This understanding helps in creating a\n",
    "fair and unbiased salary structure, promoting employee satisfaction and retention.\n",
    "\n",
    "Strategic HR Management:\n",
    "Recognizing the salary patterns within different family sizes can guide human resource management strategies. \n",
    "For instance, if employees with two children have higher average salaries, it might be beneficial to explore how \n",
    "family-friendly policies contribute to employee performance and satisfaction.\n",
    "\n",
    "\n",
    "Optimizing Employee Engagement:\n",
    "\n",
    "Companies can leverage this information to optimize employee engagement initiatives. For a company creating apps and games \n",
    "for kids, a satisfied and motivated workforce is crucial for creativity and innovation.\n",
    "Example for Profit:\n",
    "\n",
    "Suppose the company implements targeted HR policies that cater to the needs of employees with families  \n",
    "such as flexible work schedules or childcare assistance. This could enhance employee satisfaction and productivity,\n",
    "ultimately contributing to the development of high-quality and engaging apps and games for kids. A motivated workforce \n",
    "is likely to positively impact the company's reputation, user satisfaction, and, consequently, profits.\n",
    "By aligning HR strategies with employee dynamics, the company can foster a positive work environment, enhance creativity, \n",
    "and potentially increase profitability in the competitive market of apps and games for kids.\n",
    "\n",
    "\n",
    "\n",
    "\n",
    "\n",
    "\n",
    "\n"
   ]
  },
  {
   "cell_type": "code",
   "execution_count": null,
   "id": "25bddea1",
   "metadata": {},
   "outputs": [],
   "source": []
  },
  {
   "cell_type": "code",
   "execution_count": null,
   "id": "2dc2a5c4",
   "metadata": {},
   "outputs": [],
   "source": []
  },
  {
   "cell_type": "code",
   "execution_count": null,
   "id": "63357f4b",
   "metadata": {},
   "outputs": [],
   "source": []
  },
  {
   "cell_type": "code",
   "execution_count": null,
   "id": "28921427",
   "metadata": {},
   "outputs": [],
   "source": []
  },
  {
   "cell_type": "code",
   "execution_count": null,
   "id": "eefc98cb",
   "metadata": {},
   "outputs": [],
   "source": []
  },
  {
   "cell_type": "code",
   "execution_count": null,
   "id": "62c68197",
   "metadata": {},
   "outputs": [],
   "source": []
  },
  {
   "cell_type": "code",
   "execution_count": null,
   "id": "d36d9086",
   "metadata": {},
   "outputs": [],
   "source": []
  },
  {
   "cell_type": "code",
   "execution_count": null,
   "id": "2e798be7",
   "metadata": {},
   "outputs": [],
   "source": []
  },
  {
   "cell_type": "code",
   "execution_count": null,
   "id": "bc704d41",
   "metadata": {},
   "outputs": [],
   "source": []
  },
  {
   "cell_type": "code",
   "execution_count": null,
   "id": "9a14388d",
   "metadata": {},
   "outputs": [],
   "source": []
  },
  {
   "cell_type": "code",
   "execution_count": null,
   "id": "ea256847",
   "metadata": {},
   "outputs": [],
   "source": []
  },
  {
   "cell_type": "code",
   "execution_count": null,
   "id": "4d9bee48",
   "metadata": {},
   "outputs": [],
   "source": []
  },
  {
   "cell_type": "code",
   "execution_count": null,
   "id": "73cbbc9e",
   "metadata": {},
   "outputs": [],
   "source": []
  },
  {
   "cell_type": "code",
   "execution_count": null,
   "id": "6359f7c9",
   "metadata": {},
   "outputs": [],
   "source": [
    "df.columns"
   ]
  },
  {
   "cell_type": "code",
   "execution_count": null,
   "id": "a61304d3",
   "metadata": {},
   "outputs": [],
   "source": []
  },
  {
   "cell_type": "code",
   "execution_count": null,
   "id": "c6977b9f",
   "metadata": {},
   "outputs": [],
   "source": []
  },
  {
   "cell_type": "code",
   "execution_count": null,
   "id": "16880313",
   "metadata": {},
   "outputs": [],
   "source": []
  },
  {
   "cell_type": "code",
   "execution_count": null,
   "id": "390d83ff",
   "metadata": {},
   "outputs": [],
   "source": []
  },
  {
   "cell_type": "code",
   "execution_count": null,
   "id": "3db53d71",
   "metadata": {},
   "outputs": [],
   "source": []
  },
  {
   "cell_type": "code",
   "execution_count": null,
   "id": "f3595605",
   "metadata": {},
   "outputs": [],
   "source": []
  },
  {
   "cell_type": "code",
   "execution_count": 19,
   "id": "6e4ef67c",
   "metadata": {},
   "outputs": [
    {
     "data": {
      "image/png": "[encoded data removed]",
      "text/plain": [
       "<Figure size 640x480 with 1 Axes>"
      ]
     },
     "metadata": {},
     "output_type": "display_data"
    }
   ],
   "source": [
    "# Extracting data for the 'First Name' column\n",
    "first_name_counts = df['First Name'].value_counts()\n",
    "\n",
    "# Plotting the bar chart\n",
    "plt.bar(first_name_counts.index, first_name_counts.values)\n",
    "plt.xlabel('First Names')\n",
    "plt.ylabel('Frequency')\n",
    "plt.title('Distribution of First Names')\n",
    "plt.show()"
   ]
  },
  {
   "cell_type": "code",
   "execution_count": 20,
   "id": "91484cf7",
   "metadata": {},
   "outputs": [
    {
     "data": {
      "image/png": "[encoded data removed]",
      "text/plain": [
       "<Figure size 640x480 with 1 Axes>"
      ]
     },
     "metadata": {},
     "output_type": "display_data"
    }
   ],
   "source": [
    "# Count the occurrences of each gender\n",
    "gender_counts = df['Gender'].value_counts()\n",
    "\n",
    "# Plotting the pie chart\n",
    "plt.pie(gender_counts, labels=gender_counts.index, autopct='%1.1f%%', startangle=90, colors=['#66b3ff', '#99ff99'])\n",
    "plt.title('Gender Distribution')\n",
    "plt.show()"
   ]
  },
  {
   "cell_type": "code",
   "execution_count": 21,
   "id": "27c57a87",
   "metadata": {},
   "outputs": [
    {
     "data": {
      "image/png": "[encoded data removed]",
      "text/plain": [
       "<Figure size 640x480 with 1 Axes>"
      ]
     },
     "metadata": {},
     "output_type": "display_data"
    }
   ],
   "source": [
    "# Count the occurrences of each marital status\n",
    "marital_status_counts = df['Marital Status'].value_counts()\n",
    "\n",
    "# Plotting the donut chart\n",
    "fig, ax = plt.subplots()\n",
    "ax.pie(marital_status_counts, labels=marital_status_counts.index, autopct='%1.1f%%', startangle=90, colors=['#66b3ff', '#99ff99', '#ffcc99'], wedgeprops=dict(width=0.3))\n",
    "ax.set_title('Marital Status Distribution')\n",
    "plt.show()"
   ]
  },
  {
   "cell_type": "code",
   "execution_count": 22,
   "id": "f3bd5166",
   "metadata": {},
   "outputs": [
    {
     "data": {
      "image/png": "[encoded data removed]",
      "text/plain": [
       "<Figure size 640x480 with 1 Axes>"
      ]
     },
     "metadata": {},
     "output_type": "display_data"
    }
   ],
   "source": [
    "# Create a DataFrame for the counts of No. of Children by Marital Status\n",
    "children_marital_counts = pd.crosstab(df['No. of Children'], df['Marital Status'])\n",
    "\n",
    "# Plotting the stacked bar chart\n",
    "children_marital_counts.plot(kind='bar', stacked=True, colormap='viridis')\n",
    "plt.xlabel('Number of Children')\n",
    "plt.ylabel('Count')\n",
    "plt.title('Number of Children by Marital Status')\n",
    "plt.legend(title='Marital Status', bbox_to_anchor=(1, 1))\n",
    "plt.show()"
   ]
  },
  {
   "cell_type": "code",
   "execution_count": null,
   "id": "90eb3b47",
   "metadata": {},
   "outputs": [],
   "source": []
  },
  {
   "cell_type": "code",
   "execution_count": 26,
   "id": "58933118",
   "metadata": {},
   "outputs": [
    {
     "name": "stdout",
     "output_type": "stream",
     "text": [
      "39.536\n"
     ]
    }
   ],
   "source": [
    "# Insight 1: Average Age of Players\n",
    "average_age = df['Age'].mean()\n",
    "print(average_age)"
   ]
  },
  {
   "cell_type": "code",
   "execution_count": 30,
   "id": "be6d348b",
   "metadata": {},
   "outputs": [
    {
     "name": "stdout",
     "output_type": "stream",
     "text": [
      "Insurer              29\n",
      "Biochemist           28\n",
      "Agronomist           24\n",
      "Driver               24\n",
      "Programmer           24\n",
      "Singer               24\n",
      "Lecturer             23\n",
      "Electrician          23\n",
      "Engineer             23\n",
      "Botanist             23\n",
      "Architect            22\n",
      "Producer             22\n",
      "Historian            22\n",
      "Interior Designer    22\n",
      "Chef                 22\n",
      "Journalist           21\n",
      "Lawer                21\n",
      "Auditor              21\n",
      "Mechanic             20\n",
      "Interpreter          20\n",
      "Veterinarian         20\n",
      "Teacher              20\n",
      "Salesman             20\n",
      "Archeologist         20\n",
      "Medic                19\n",
      "Pharmacist           19\n",
      "Fine Artist          19\n",
      "Meteorologist        19\n",
      "Geologist            19\n",
      "Economist            19\n",
      "Astronomer           18\n",
      "Social Worker        18\n",
      "Composer             18\n",
      "Mathematician        18\n",
      "Hairdresser          18\n",
      "Jeweller             17\n",
      "Physicist            17\n",
      "Florist              17\n",
      "Baker                17\n",
      "Carpenter            16\n",
      "Actor                16\n",
      "Photographer         15\n",
      "Police Officer       15\n",
      "Firefighter          15\n",
      "Fashion Designer     14\n",
      "Chemist              14\n",
      "Manager              14\n",
      "Dancer               14\n",
      "Graphic Designer     13\n",
      "Accountant           13\n",
      "Aeroplane Pilot      12\n",
      "Cook                 10\n",
      "Scientist             9\n",
      "Name: Occupation, dtype: int64\n"
     ]
    }
   ],
   "source": [
    "# Insight 2: Distribution of Occupations\n",
    "occupation_distribution = df['Occupation'].value_counts()\n",
    "print(occupation_distribution)"
   ]
  },
  {
   "cell_type": "code",
   "execution_count": 32,
   "id": "35984354",
   "metadata": {},
   "outputs": [
    {
     "name": "stdout",
     "output_type": "stream",
     "text": [
      "-0.045306801470057924\n"
     ]
    }
   ],
   "source": [
    "# Insight 3: Correlation between Salary and Age\n",
    "sal = df['Salary'].corr(df['Age'])\n",
    "print(sal)"
   ]
  },
  {
   "cell_type": "code",
   "execution_count": 33,
   "id": "37094348",
   "metadata": {},
   "outputs": [
    {
     "name": "stdout",
     "output_type": "stream",
     "text": [
      "Single     513\n",
      "Married    487\n",
      "Name: Marital Status, dtype: int64\n"
     ]
    }
   ],
   "source": [
    "\n",
    "# Insight 4: Marital Status Distribution\n",
    "marita = df['Marital Status'].value_counts()\n",
    "print(marita)"
   ]
  },
  {
   "cell_type": "code",
   "execution_count": 36,
   "id": "63c5bb88",
   "metadata": {},
   "outputs": [
    {
     "name": "stdout",
     "output_type": "stream",
     "text": [
      "2.447\n"
     ]
    }
   ],
   "source": [
    "\n",
    "# Insight 5: Average Number of Children\n",
    "chi = df['No. of Children'].mean()\n",
    "print(chi)"
   ]
  },
  {
   "cell_type": "code",
   "execution_count": 38,
   "id": "76d8e3ca",
   "metadata": {},
   "outputs": [
    {
     "name": "stdout",
     "output_type": "stream",
     "text": [
      "Male      51.4\n",
      "Female    48.6\n",
      "Name: Gender, dtype: float64\n"
     ]
    }
   ],
   "source": [
    "\n",
    "# Insight 6: Percentage of Male and Female Players\n",
    "gen = df['Gender'].value_counts(normalize=True) * 100\n",
    "print(gen)"
   ]
  },
  {
   "cell_type": "code",
   "execution_count": 40,
   "id": "ba83ac0c",
   "metadata": {
    "scrolled": true
   },
   "outputs": [
    {
     "name": "stdout",
     "output_type": "stream",
     "text": [
      "0    Ryan\n",
      "Name: First Name, dtype: object\n"
     ]
    }
   ],
   "source": [
    "\n",
    "# Insight 7: Most Common First Names\n",
    "common = df['First Name'].mode()\n",
    "print(common)"
   ]
  },
  {
   "cell_type": "code",
   "execution_count": 42,
   "id": "85708497",
   "metadata": {},
   "outputs": [
    {
     "data": {
      "text/plain": [
       "Index(['First Name', 'Last  Name', 'Gender', 'Age', 'Occupation', 'Salary',\n",
       "       'Marital Status', 'No. of Children'],\n",
       "      dtype='object')"
      ]
     },
     "execution_count": 42,
     "metadata": {},
     "output_type": "execute_result"
    }
   ],
   "source": [
    "df.columns"
   ]
  },
  {
   "cell_type": "code",
   "execution_count": 44,
   "id": "8170abcb",
   "metadata": {},
   "outputs": [
    {
     "name": "stdout",
     "output_type": "stream",
     "text": [
      "Davis\n"
     ]
    }
   ],
   "source": [
    "\n",
    "# Insight 8: Oldest Player's Last Name\n",
    "old = df.loc[df['Age'].idxmax(), 'Last  Name']\n",
    "print(old)"
   ]
  },
  {
   "cell_type": "code",
   "execution_count": 45,
   "id": "2701db1b",
   "metadata": {},
   "outputs": [
    {
     "name": "stdout",
     "output_type": "stream",
     "text": [
      "Graphic Designer\n"
     ]
    }
   ],
   "source": [
    "# Insight 9: Highest Salary Occupation\n",
    "high = df.loc[df['Salary'].idxmax(), 'Occupation']\n",
    "print(high)"
   ]
  },
  {
   "cell_type": "code",
   "execution_count": 46,
   "id": "2f61d9a9",
   "metadata": {},
   "outputs": [
    {
     "name": "stdout",
     "output_type": "stream",
     "text": [
      "Married\n"
     ]
    }
   ],
   "source": [
    "# Insight 10: Marital Status with the Most Children\n",
    "max_children_marital_status = df.loc[df['No. of Children'].idxmax(), 'Marital Status']\n",
    "print(max_children_marital_status )"
   ]
  },
  {
   "cell_type": "code",
   "execution_count": 47,
   "id": "0d561b05",
   "metadata": {},
   "outputs": [
    {
     "name": "stdout",
     "output_type": "stream",
     "text": [
      "5233.088295687885\n"
     ]
    }
   ],
   "source": [
    "# Insight 11: Average Salary for Married Individuals\n",
    "average_salary_married = df[df['Marital Status'] == 'Married']['Salary'].mean()\n",
    "print(average_salary_married)"
   ]
  },
  {
   "cell_type": "code",
   "execution_count": 48,
   "id": "0ff6d216",
   "metadata": {},
   "outputs": [
    {
     "name": "stdout",
     "output_type": "stream",
     "text": [
      "    First Name  Last  Name  Gender  Age   Occupation  Salary Marital Status  \\\n",
      "1        Grace      Taylor  Female   36      Insurer    4466        Married   \n",
      "3      Vanessa     Farrell  Female   23        Lawer    3403        Married   \n",
      "6      Belinda     Spencer  Female   24       Dancer    8927        Married   \n",
      "11       Tiana      Wright  Female   59     Composer    8087         Single   \n",
      "12    Kimberly      Rogers  Female   54    Geologist    7929         Single   \n",
      "..         ...         ...     ...  ...          ...     ...            ...   \n",
      "989      Lucia      Holmes  Female   33  Firefighter    8618         Single   \n",
      "990   Adelaide  Montgomery  Female   25      Auditor    5217        Married   \n",
      "992     Sophia    Ferguson  Female   48    Architect    9636         Single   \n",
      "995      Alina     Cameron  Female   38      Florist    1432         Single   \n",
      "998      Rosie     Douglas  Female   21  Hairdresser    5982         Single   \n",
      "\n",
      "     No. of Children  \n",
      "1                  1  \n",
      "3                  2  \n",
      "6                  5  \n",
      "11                 4  \n",
      "12                 2  \n",
      "..               ...  \n",
      "989                4  \n",
      "990                2  \n",
      "992                5  \n",
      "995                4  \n",
      "998                5  \n",
      "\n",
      "[403 rows x 8 columns]\n"
     ]
    }
   ],
   "source": [
    "# Insight 12: Female Players with Children\n",
    "female_players_with_children = df[(df['Gender'] == 'Female') & (df['No. of Children'] > 0)]\n",
    "print(female_players_with_children)"
   ]
  },
  {
   "cell_type": "code",
   "execution_count": 49,
   "id": "a9c355d5",
   "metadata": {},
   "outputs": [
    {
     "name": "stdout",
     "output_type": "stream",
     "text": [
      "['Aeroplane Pilot' 'Auditor' 'Engineer' 'Composer' 'Geologist' 'Scientist'\n",
      " 'Economist' 'Mathematician' 'Singer' 'Programmer' 'Lawer' 'Manager'\n",
      " 'Baker' 'Fine Artist' 'Chef' 'Archeologist' 'Architect' 'Electrician'\n",
      " 'Photographer' 'Journalist' 'Driver' 'Chemist' 'Lecturer' 'Botanist'\n",
      " 'Police Officer' 'Astronomer' 'Physicist' 'Florist' 'Salesman'\n",
      " 'Biochemist' 'Carpenter' 'Fashion Designer' 'Agronomist' 'Interpreter'\n",
      " 'Veterinarian' 'Historian' 'Actor' 'Graphic Designer' 'Interior Designer'\n",
      " 'Jeweller' 'Hairdresser' 'Medic' 'Meteorologist' 'Teacher'\n",
      " 'Social Worker' 'Accountant' 'Firefighter' 'Dancer' 'Insurer' 'Producer'\n",
      " 'Mechanic' 'Pharmacist' 'Cook']\n"
     ]
    }
   ],
   "source": [
    "# Insight 13: Occupations of Single Players\n",
    "single_players_occupations = df[df['Marital Status'] == 'Single']['Occupation'].unique()\n",
    "print(single_players_occupations)"
   ]
  },
  {
   "cell_type": "code",
   "execution_count": 50,
   "id": "19f65c5e",
   "metadata": {},
   "outputs": [
    {
     "name": "stdout",
     "output_type": "stream",
     "text": [
      "0        NaN\n",
      "1      30-40\n",
      "2        NaN\n",
      "3      20-30\n",
      "4      20-30\n",
      "       ...  \n",
      "995    30-40\n",
      "996    20-30\n",
      "997    30-40\n",
      "998    20-30\n",
      "999      NaN\n",
      "Name: Age, Length: 1000, dtype: category\n",
      "Categories (3, object): ['20-30' < '30-40' < '40-50']\n"
     ]
    }
   ],
   "source": [
    "# Insight 14: Number of Players in Each Age Group\n",
    "age_groups = pd.cut(df['Age'], bins=[20, 30, 40, 50], labels=['20-30', '30-40', '40-50'])\n",
    "players_in_age_groups = age_groups.value_counts()\n",
    "print(age_groups)"
   ]
  },
  {
   "cell_type": "code",
   "execution_count": 51,
   "id": "450d97f3",
   "metadata": {},
   "outputs": [
    {
     "name": "stdout",
     "output_type": "stream",
     "text": [
      "40-50    251\n",
      "20-30    228\n",
      "30-40    217\n",
      "Name: Age, dtype: int64\n"
     ]
    }
   ],
   "source": [
    "print(players_in_age_groups )"
   ]
  },
  {
   "cell_type": "code",
   "execution_count": 53,
   "id": "b2d5f3da",
   "metadata": {},
   "outputs": [
    {
     "name": "stdout",
     "output_type": "stream",
     "text": [
      "0      Q3\n",
      "1      Q2\n",
      "2      Q3\n",
      "3      Q2\n",
      "4      Q1\n",
      "       ..\n",
      "995    Q1\n",
      "996    Q2\n",
      "997    Q1\n",
      "998    Q3\n",
      "999    Q3\n",
      "Name: Salary, Length: 1000, dtype: category\n",
      "Categories (4, object): ['Q1' < 'Q2' < 'Q3' < 'Q4']\n"
     ]
    }
   ],
   "source": [
    "# Insight 15: Salary Quartiles\n",
    "salary_quartiles = pd.qcut(df['Salary'], q=[0, 0.25, 0.5, 0.75, 1], labels=['Q1', 'Q2', 'Q3', 'Q4'])\n",
    "print(salary_quartiles)"
   ]
  },
  {
   "cell_type": "code",
   "execution_count": 55,
   "id": "1cec0e5a",
   "metadata": {},
   "outputs": [
    {
     "name": "stdout",
     "output_type": "stream",
     "text": [
      "4773.461538461538\n"
     ]
    }
   ],
   "source": [
    "# Insight 16: Average Salary for Graphic Designer\n",
    "average_salary_developers = df[df['Occupation'] == 'Graphic Designer']['Salary'].mean()\n",
    "print(average_salary_developers)"
   ]
  },
  {
   "cell_type": "code",
   "execution_count": 56,
   "id": "ee837619",
   "metadata": {},
   "outputs": [
    {
     "name": "stdout",
     "output_type": "stream",
     "text": [
      "2      Charlie\n",
      "4       Fenton\n",
      "10       Alina\n",
      "21       Tiana\n",
      "27       Emily\n",
      "        ...   \n",
      "988       Anna\n",
      "991      Rosie\n",
      "994      Emily\n",
      "996      Lydia\n",
      "999     Dexter\n",
      "Name: First Name, Length: 170, dtype: object\n"
     ]
    }
   ],
   "source": [
    "# Insight 17: Players without Children\n",
    "players_without_children = df[df['No. of Children'] == 0]['First Name']\n",
    "print(players_without_children )"
   ]
  },
  {
   "cell_type": "code",
   "execution_count": 57,
   "id": "aa46f600",
   "metadata": {},
   "outputs": [
    {
     "name": "stdout",
     "output_type": "stream",
     "text": [
      "38.86008230452675\n"
     ]
    }
   ],
   "source": [
    "# Insight 18: Average Age of Female Players\n",
    "average_age_female_players = df[df['Gender'] == 'Female']['Age'].mean()\n",
    "print(average_age_female_players)"
   ]
  },
  {
   "cell_type": "code",
   "execution_count": 58,
   "id": "576699db",
   "metadata": {},
   "outputs": [
    {
     "name": "stdout",
     "output_type": "stream",
     "text": [
      "5303460\n"
     ]
    }
   ],
   "source": [
    "# Insight 19: Total Salary Expense\n",
    "total_salary_expense = df['Salary'].sum()\n",
    "print(total_salary_expense)"
   ]
  },
  {
   "cell_type": "code",
   "execution_count": 59,
   "id": "c54f4cfb",
   "metadata": {},
   "outputs": [
    {
     "name": "stdout",
     "output_type": "stream",
     "text": [
      "41.0\n"
     ]
    }
   ],
   "source": [
    "# Insight 20: Median Age of Married Players\n",
    "median_age_married_players = df[df['Marital Status'] == 'Married']['Age'].median()\n",
    "print(median_age_married_players)"
   ]
  },
  {
   "cell_type": "code",
   "execution_count": 60,
   "id": "1e9b792f",
   "metadata": {},
   "outputs": [],
   "source": [
    "# Insight 21: Average Age of Players by Gender\n",
    "average_age_by_gender = df.groupby('Gender')['Age'].mean()\n",
    "\n",
    "# Insight 22: Top 3 Occupations with Highest Salaries\n",
    "top_3_salaries_by_occupation = df.groupby('Occupation')['Salary'].mean().nlargest(3)\n",
    "\n",
    "# Insight 23: Distribution of Marital Status by Gender\n",
    "marital_status_gender_distribution = df.groupby(['Marital Status', 'Gender']).size().unstack()\n",
    "\n",
    "    # Insight 24: Average Salary of Married Players with Children\n",
    "average_salary_married_with_children = df[(df['Marital Status'] == 'Married') & (df['No. of Children'] > 0)]['Salary'].mean()\n",
    "\n",
    "# Insight 25: Age Distribution of Players with Children\n",
    "age_distribution_with_children = pd.cut(df[df['No. of Children'] > 0]['Age'], bins=[20, 30, 40, 50], labels=['20-30', '30-40', '40-50']).value_counts()\n"
   ]
  },
  {
   "cell_type": "code",
   "execution_count": 61,
   "id": "aed5d434",
   "metadata": {},
   "outputs": [
    {
     "name": "stdout",
     "output_type": "stream",
     "text": [
      "Gender\n",
      "Female    38.860082\n",
      "Male      40.175097\n",
      "Name: Age, dtype: float64\n"
     ]
    }
   ],
   "source": [
    "print(average_age_by_gender)"
   ]
  },
  {
   "cell_type": "code",
   "execution_count": 62,
   "id": "438f57b8",
   "metadata": {},
   "outputs": [
    {
     "name": "stdout",
     "output_type": "stream",
     "text": [
      "Occupation\n",
      "Mechanic           6884.500000\n",
      "Aeroplane Pilot    6691.166667\n",
      "Accountant         6615.000000\n",
      "Name: Salary, dtype: float64\n"
     ]
    }
   ],
   "source": [
    "print(top_3_salaries_by_occupation)"
   ]
  },
  {
   "cell_type": "code",
   "execution_count": 63,
   "id": "d39f5d44",
   "metadata": {},
   "outputs": [
    {
     "name": "stdout",
     "output_type": "stream",
     "text": [
      "Gender          Female  Male\n",
      "Marital Status              \n",
      "Married            240   247\n",
      "Single             246   267\n"
     ]
    }
   ],
   "source": [
    "print(marital_status_gender_distribution)"
   ]
  },
  {
   "cell_type": "code",
   "execution_count": 64,
   "id": "81c38dfe",
   "metadata": {},
   "outputs": [
    {
     "name": "stdout",
     "output_type": "stream",
     "text": [
      "5197.506172839506\n"
     ]
    }
   ],
   "source": [
    "print(average_salary_married_with_children)"
   ]
  },
  {
   "cell_type": "code",
   "execution_count": 65,
   "id": "ff6d37b1",
   "metadata": {},
   "outputs": [
    {
     "name": "stdout",
     "output_type": "stream",
     "text": [
      "40-50    210\n",
      "20-30    195\n",
      "30-40    182\n",
      "Name: Age, dtype: int64\n"
     ]
    }
   ],
   "source": [
    "print(age_distribution_with_children)"
   ]
  },
  {
   "cell_type": "code",
   "execution_count": null,
   "id": "55dbdf23",
   "metadata": {},
   "outputs": [],
   "source": []
  }
 ],
 "metadata": {
  "kernelspec": {
   "display_name": "Python 3 (ipykernel)",
   "language": "python",
   "name": "python3"
  },
  "language_info": {
   "codemirror_mode": {
    "name": "ipython",
    "version": 3
   },
   "file_extension": ".py",
   "mimetype": "text/x-python",
   "name": "python",
   "nbconvert_exporter": "python",
   "pygments_lexer": "ipython3",
   "version": "3.9.13"
  }
 },
 "nbformat": 4,
 "nbformat_minor": 5
}
